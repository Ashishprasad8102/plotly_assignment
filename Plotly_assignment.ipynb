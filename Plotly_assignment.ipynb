{
 "cells": [
  {
   "cell_type": "code",
   "execution_count": null,
   "id": "d878be2f-25db-4edf-80df-eedd2842c83d",
   "metadata": {},
   "outputs": [],
   "source": [
    "1> titanic"
   ]
  },
  {
   "cell_type": "code",
   "execution_count": null,
   "id": "bfa1ffba-330b-40f0-ae91-3684e3c7638f",
   "metadata": {},
   "outputs": [],
   "source": [
    "import plotly.graph_objects as go\n",
    "import seaborn as sns \n",
    "sns.load_dataset('titanic')\n",
    "fig = go.Figure(data=go.Scatter(x=age,y=fare,mode = 'marker'))"
   ]
  },
  {
   "cell_type": "code",
   "execution_count": null,
   "id": "3f7be71f-10b0-447f-9197-cb2b909c166d",
   "metadata": {},
   "outputs": [],
   "source": [
    "2>"
   ]
  },
  {
   "cell_type": "code",
   "execution_count": null,
   "id": "2087fde1-4349-436f-8a70-114d317f1300",
   "metadata": {},
   "outputs": [],
   "source": [
    "import seaborn as sns\n",
    "import plotly.graph_objects as go\n",
    "sns.load_dataset('tips')\n",
    "fig = go.Figure(data=go.box(x=s, y=y_values, mode='markers'))\n"
   ]
  },
  {
   "cell_type": "code",
   "execution_count": null,
   "id": "33a77ae7-8149-4fe0-876a-a8358349ed43",
   "metadata": {},
   "outputs": [],
   "source": [
    "3>"
   ]
  },
  {
   "cell_type": "code",
   "execution_count": null,
   "id": "c241173a-3c2a-4e2e-8821-f107c41b1a34",
   "metadata": {},
   "outputs": [],
   "source": [
    "import plotly.graph_objects as go\n",
    "import seaborn as sns \n",
    "sns.load_dataset('iris')\n",
    "fig = go.Figure(data=go.Scatter(x=x_values, y=y_values, mode='markers'))"
   ]
  },
  {
   "cell_type": "code",
   "execution_count": null,
   "id": "51f88f82-fc56-446f-a5a3-739515c5866f",
   "metadata": {},
   "outputs": [],
   "source": [
    "5>In seaborn, displot is used to create a figure-level distribution plot, which can show the univariate\n",
    "distribution of data points. However, in plotly express, there is no direct equivalent function called \n",
    "displot. Instead, you can use px.histogram to create a similar distribution plot. Here's how you can do \n",
    "it:\n",
    "\n",
    "\n",
    "import plotly.express as px\n",
    "\n",
    "# Sample data for the distribution plot\n",
    "data = [1, 1, 2, 3, 3, 3, 4, 4, 4, 4, 5, 5, 6, 6, 7, 8, 8, 8, 9, 10]\n",
    "\n",
    "# Create a distribution plot using Plotly express\n",
    "fig = px.histogram(data, nbins=10, title='Distribution Plot Example')\n",
    "\n",
    "# Customize the layout of the plot\n",
    "fig.update_layout(xaxis_title='Values', yaxis_title='Frequency')\n",
    "\n",
    "# Show the plot\n",
    "fig.show()\n",
    "In this example, we use px.histogram to create a distribution plot (similar to a displot) for the given sample \n",
    "data. The nbins parameter controls the number of bins or bars in the histogram. You can adjust this value based\n",
    "on your data and preferences.\n"
   ]
  },
  {
   "cell_type": "code",
   "execution_count": null,
   "id": "29c124fd-eb92-4b23-aef1-7ba268bf2ff6",
   "metadata": {},
   "outputs": [],
   "source": []
  },
  {
   "cell_type": "code",
   "execution_count": null,
   "id": "8d882179-d05e-4245-a2a3-08f73a19788f",
   "metadata": {},
   "outputs": [],
   "source": []
  },
  {
   "cell_type": "code",
   "execution_count": null,
   "id": "aa3967fb-6bd8-46c8-908a-1631e2481b4b",
   "metadata": {},
   "outputs": [],
   "source": []
  },
  {
   "cell_type": "code",
   "execution_count": null,
   "id": "4c0fb5e4-2f98-46e3-b118-b96b891aa698",
   "metadata": {},
   "outputs": [],
   "source": []
  },
  {
   "cell_type": "code",
   "execution_count": null,
   "id": "50d3453c-b773-4a74-b49e-2037ed856f82",
   "metadata": {},
   "outputs": [],
   "source": []
  },
  {
   "cell_type": "code",
   "execution_count": null,
   "id": "13666488-95d5-45f6-ae81-3620525f7e7b",
   "metadata": {},
   "outputs": [],
   "source": []
  }
 ],
 "metadata": {
  "kernelspec": {
   "display_name": "Python 3 (ipykernel)",
   "language": "python",
   "name": "python3"
  },
  "language_info": {
   "codemirror_mode": {
    "name": "ipython",
    "version": 3
   },
   "file_extension": ".py",
   "mimetype": "text/x-python",
   "name": "python",
   "nbconvert_exporter": "python",
   "pygments_lexer": "ipython3",
   "version": "3.10.8"
  }
 },
 "nbformat": 4,
 "nbformat_minor": 5
}
